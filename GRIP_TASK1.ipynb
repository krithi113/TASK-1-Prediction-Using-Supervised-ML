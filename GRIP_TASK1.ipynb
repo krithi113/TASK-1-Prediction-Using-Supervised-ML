{
 "cells": [
  {
   "cell_type": "markdown",
   "id": "0347b844",
   "metadata": {},
   "source": [
    "# GRIP - Data Science and Business Analytics Internship\n",
    "\n",
    "## TASK 1\n",
    "\n",
    "## Prediction using Supervised ML\n",
    "### Predict the percentage of an student based on the no. of study hours using Simple Linear Regression.\n"
   ]
  },
  {
   "cell_type": "markdown",
   "id": "01400234",
   "metadata": {},
   "source": [
    "### AUTHOR: Krithika S"
   ]
  },
  {
   "cell_type": "markdown",
   "id": "fe682444",
   "metadata": {},
   "source": [
    "### Importing the necessary libraries"
   ]
  },
  {
   "cell_type": "code",
   "execution_count": 92,
   "id": "d6b2e53f",
   "metadata": {},
   "outputs": [],
   "source": [
    "import numpy as np\n",
    "import pandas as pd\n",
    "import matplotlib.pyplot as plt\n",
    "from sklearn.model_selection import train_test_split\n",
    "from sklearn import metrics\n",
    "from sklearn.linear_model import LinearRegression\n"
   ]
  },
  {
   "cell_type": "markdown",
   "id": "2d5c4f35",
   "metadata": {},
   "source": [
    "### Importing Data"
   ]
  },
  {
   "cell_type": "code",
   "execution_count": 93,
   "id": "9bb31cd4",
   "metadata": {},
   "outputs": [
    {
     "data": {
      "text/html": [
       "<div>\n",
       "<style scoped>\n",
       "    .dataframe tbody tr th:only-of-type {\n",
       "        vertical-align: middle;\n",
       "    }\n",
       "\n",
       "    .dataframe tbody tr th {\n",
       "        vertical-align: top;\n",
       "    }\n",
       "\n",
       "    .dataframe thead th {\n",
       "        text-align: right;\n",
       "    }\n",
       "</style>\n",
       "<table border=\"1\" class=\"dataframe\">\n",
       "  <thead>\n",
       "    <tr style=\"text-align: right;\">\n",
       "      <th></th>\n",
       "      <th>Hours</th>\n",
       "      <th>Scores</th>\n",
       "    </tr>\n",
       "  </thead>\n",
       "  <tbody>\n",
       "    <tr>\n",
       "      <th>0</th>\n",
       "      <td>2.5</td>\n",
       "      <td>21</td>\n",
       "    </tr>\n",
       "    <tr>\n",
       "      <th>1</th>\n",
       "      <td>5.1</td>\n",
       "      <td>47</td>\n",
       "    </tr>\n",
       "    <tr>\n",
       "      <th>2</th>\n",
       "      <td>3.2</td>\n",
       "      <td>27</td>\n",
       "    </tr>\n",
       "    <tr>\n",
       "      <th>3</th>\n",
       "      <td>8.5</td>\n",
       "      <td>75</td>\n",
       "    </tr>\n",
       "    <tr>\n",
       "      <th>4</th>\n",
       "      <td>3.5</td>\n",
       "      <td>30</td>\n",
       "    </tr>\n",
       "  </tbody>\n",
       "</table>\n",
       "</div>"
      ],
      "text/plain": [
       "   Hours  Scores\n",
       "0    2.5      21\n",
       "1    5.1      47\n",
       "2    3.2      27\n",
       "3    8.5      75\n",
       "4    3.5      30"
      ]
     },
     "execution_count": 93,
     "metadata": {},
     "output_type": "execute_result"
    }
   ],
   "source": [
    "df = pd.read_csv('https://raw.githubusercontent.com/AdiPersonalWorks/Random/master/student_scores%20-%20student_scores.csv')\n",
    "\n",
    "df.head()"
   ]
  },
  {
   "cell_type": "markdown",
   "id": "3bec1fce",
   "metadata": {},
   "source": [
    "### Data Visualization"
   ]
  },
  {
   "cell_type": "code",
   "execution_count": 94,
   "id": "aea17f6e",
   "metadata": {},
   "outputs": [
    {
     "data": {
      "text/plain": [
       "Text(0.5, 1.0, 'Hours studied  vs Scores')"
      ]
     },
     "execution_count": 94,
     "metadata": {},
     "output_type": "execute_result"
    },
    {
     "data": {
      "image/png": "[encoded data removed]",
      "text/plain": [
       "<Figure size 432x288 with 1 Axes>"
      ]
     },
     "metadata": {
      "needs_background": "light"
     },
     "output_type": "display_data"
    }
   ],
   "source": [
    "X = df['Hours']\n",
    "y = df['Scores']\n",
    "\n",
    "plt.scatter(X,y)\n",
    "plt.xlabel('Hours')\n",
    "plt.ylabel('Scores')\n",
    "\n",
    "plt.title('Hours studied  vs Scores')"
   ]
  },
  {
   "cell_type": "markdown",
   "id": "8f648ddb",
   "metadata": {},
   "source": [
    "### Preparing data for training"
   ]
  },
  {
   "cell_type": "code",
   "execution_count": 95,
   "id": "86f2b084",
   "metadata": {
    "scrolled": false
   },
   "outputs": [],
   "source": [
    "X = np.array(X).reshape(-1,1)\n",
    "y = np.array(y).reshape(-1,1)\n",
    "\n",
    "X_train, X_test, y_train, y_test = train_test_split(X,y, test_size = 0.3)"
   ]
  },
  {
   "cell_type": "markdown",
   "id": "d316a6c5",
   "metadata": {},
   "source": [
    "### Training"
   ]
  },
  {
   "cell_type": "code",
   "execution_count": 96,
   "id": "95746bc1",
   "metadata": {},
   "outputs": [
    {
     "name": "stdout",
     "output_type": "stream",
     "text": [
      "Model parameters:\n",
      "regression coefficient: [[9.56588997]]\n",
      "regression intercept: [2.7638016]\n"
     ]
    }
   ],
   "source": [
    "regressor = LinearRegression()\n",
    "regressor.fit(X_train,y_train)\n",
    "\n",
    "m = regressor.coef_\n",
    "b = regressor.intercept_\n",
    "\n",
    "print(\"Model parameters:\")\n",
    "print(\"regression coefficient:\",m)\n",
    "print(\"regression intercept:\",b)"
   ]
  },
  {
   "cell_type": "markdown",
   "id": "b3c2d003",
   "metadata": {},
   "source": [
    "### Prediction"
   ]
  },
  {
   "cell_type": "code",
   "execution_count": 97,
   "id": "92572840",
   "metadata": {},
   "outputs": [
    {
     "name": "stdout",
     "output_type": "stream",
     "text": [
      "   Test data  Actual  Predicted\n",
      "0        3.8    35.0  39.114184\n",
      "1        1.5    20.0  17.112637\n",
      "2        6.9    76.0  68.768442\n",
      "3        4.8    54.0  48.680073\n",
      "4        4.5    41.0  45.810306\n",
      "5        5.9    62.0  59.202552\n",
      "6        2.7    30.0  28.591705\n",
      "7        7.7    85.0  76.421154\n"
     ]
    }
   ],
   "source": [
    "y_eq = m * X + b\n",
    "y_pred = regressor.predict(X_test.reshape(-1,1))\n",
    "\n",
    "\n",
    "df_predicted = pd.DataFrame(np.concatenate((X_test, y_test, y_pred),axis=1),\\\n",
    "                            columns = [\"Test data\", \"Actual\", \"Predicted\"])\n",
    "print(df_predicted)"
   ]
  },
  {
   "cell_type": "markdown",
   "id": "28e9ca54",
   "metadata": {},
   "source": [
    "### Analysis"
   ]
  },
  {
   "cell_type": "code",
   "execution_count": 98,
   "id": "d5168c29",
   "metadata": {},
   "outputs": [
    {
     "data": {
      "image/png": "[encoded data removed]",
      "text/plain": [
       "<Figure size 432x288 with 1 Axes>"
      ]
     },
     "metadata": {
      "needs_background": "light"
     },
     "output_type": "display_data"
    }
   ],
   "source": [
    "plt.scatter(X, y, color = 'red', label = 'Actual scores')\n",
    "plt.plot(X,y_eq, color = 'black', label = 'Regression line')\n",
    "plt.xlabel('No. of hours studied')\n",
    "plt.ylabel('Scores obtained')\n",
    "plt.legend()\n",
    "plt.show()"
   ]
  },
  {
   "cell_type": "markdown",
   "id": "3224b11c",
   "metadata": {},
   "source": [
    "### predicted score if a student studies for 9.25 hrs/ day"
   ]
  },
  {
   "cell_type": "code",
   "execution_count": 99,
   "id": "a8d3b904",
   "metadata": {},
   "outputs": [
    {
     "name": "stdout",
     "output_type": "stream",
     "text": [
      "Predicted score in a student studies for 9.25 hrs per day is 91.24828386348256\n"
     ]
    }
   ],
   "source": [
    "y_ = regressor.predict([[9.25]])\n",
    "print(\"Predicted score in a student studies for 9.25 hrs per day is\",y_[0][0])"
   ]
  },
  {
   "cell_type": "markdown",
   "id": "3375feb0",
   "metadata": {},
   "source": [
    "### Evaluating the model"
   ]
  },
  {
   "cell_type": "code",
   "execution_count": 100,
   "id": "b5a5d299",
   "metadata": {},
   "outputs": [
    {
     "name": "stdout",
     "output_type": "stream",
     "text": [
      "Mean Square Error: 5.152730657593489\n"
     ]
    }
   ],
   "source": [
    "from sklearn import metrics\n",
    "import math as m\n",
    "\n",
    "print(\"Mean Square Error:\",m.sqrt(metrics.mean_squared_error(y_test,y_pred)))"
   ]
  },
  {
   "cell_type": "code",
   "execution_count": 101,
   "id": "f44f0c47",
   "metadata": {},
   "outputs": [
    {
     "name": "stdout",
     "output_type": "stream",
     "text": [
      "Mean Absolute Error: 4.643490766702115\n"
     ]
    }
   ],
   "source": [
    "print(\"Mean Absolute Error:\",metrics.mean_absolute_error(y_test,y_pred))"
   ]
  }
 ],
 "metadata": {
  "kernelspec": {
   "display_name": "Python 3 (ipykernel)",
   "language": "python",
   "name": "python3"
  },
  "language_info": {
   "codemirror_mode": {
    "name": "ipython",
    "version": 3
   },
   "file_extension": ".py",
   "mimetype": "text/x-python",
   "name": "python",
   "nbconvert_exporter": "python",
   "pygments_lexer": "ipython3",
   "version": "3.8.12"
  }
 },
 "nbformat": 4,
 "nbformat_minor": 5
}
